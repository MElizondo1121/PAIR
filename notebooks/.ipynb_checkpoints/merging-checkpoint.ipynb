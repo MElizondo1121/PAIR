{
 "cells": [
  {
   "cell_type": "code",
   "execution_count": null,
   "id": "5be6b9cc-9575-4bf2-befd-2c72dca798b3",
   "metadata": {},
   "outputs": [],
   "source": [
    "import pandas as pd\n",
    "import seaborn as sns\n",
    "import networkx as nx\n",
    "import numpy as np"
   ]
  },
  {
   "cell_type": "code",
   "execution_count": null,
   "id": "e9f612ac-51b2-4d55-a430-8c650b551678",
   "metadata": {},
   "outputs": [],
   "source": [
    "from scipy import stats"
   ]
  },
  {
   "cell_type": "markdown",
   "id": "04533c14-cc66-45a4-b888-5b646e4753e7",
   "metadata": {},
   "source": [
    "#### Region is all south\n",
    "#### 254 Counties"
   ]
  },
  {
   "cell_type": "code",
   "execution_count": null,
   "id": "48fdee5a-972e-489d-af74-ca1dff226c44",
   "metadata": {},
   "outputs": [],
   "source": [
    "df = pd.read_csv('../data/SDOH/SDOH_County_TEXAS_Labeled.csv').drop(['Unnamed: 0', 'YEAR', 'STATE', 'STATEFIPS', 'TERRITORY', 'REGION', 'COUNTYFIPS'], axis=1)\n",
    "df"
   ]
  },
  {
   "cell_type": "code",
   "execution_count": null,
   "id": "27b492c3-7983-4d6b-8809-8e3e8b72d8ea",
   "metadata": {},
   "outputs": [],
   "source": [
    "urban_rural_count = df['AHRF_URC_2013'].value_counts()\n",
    "urban_rural_count"
   ]
  },
  {
   "cell_type": "code",
   "execution_count": null,
   "id": "29c11812-302a-4883-8058-539510593c70",
   "metadata": {
    "scrolled": true
   },
   "outputs": [],
   "source": [
    "for col in df.columns:\n",
    "    print(f'Column {col}:', df[col].nunique())"
   ]
  },
  {
   "cell_type": "code",
   "execution_count": null,
   "id": "f58f2e47-8e3a-4f47-9648-cdde0f99f0e4",
   "metadata": {},
   "outputs": [],
   "source": [
    "labels = urban_rural_count.index.map({1: 'Urban', 0: 'Rural'}).tolist()\n",
    "\n",
    "# Plot the pie chart\n",
    "fig, ax = plt.subplots(figsize=(6, 6))\n",
    "ax.pie(urban_rural_count, labels=labels, autopct='%1.1f%%', colors=['#d62728', '#1f77b4'], startangle=90)\n",
    "ax.set_title('Overall Urban/Rural Distribution')\n",
    "\n",
    "plt.tight_layout()\n",
    "#plt.savefig('figures/texas/overall_label_distribution.png', format='png', bbox_inches='tight')\n",
    "plt.show()"
   ]
  },
  {
   "cell_type": "code",
   "execution_count": null,
   "id": "eeace58e-2528-4c8c-8b76-ce183d0ccfb3",
   "metadata": {},
   "outputs": [],
   "source": [
    "correlation_matrix = df.drop('COUNTY', axis=1).corr()\n",
    "\n",
    "# Create the heatmap\n",
    "plt.figure(figsize=(26, 20))\n",
    "sns.heatmap(correlation_matrix, annot=True, cmap='coolwarm', fmt='.2f', linewidths=0.5)\n",
    "plt.title('Correlation Matrix')\n",
    "plt.show()"
   ]
  },
  {
   "cell_type": "code",
   "execution_count": null,
   "id": "4b92e58e-939d-4cf4-a658-c5b314984d3a",
   "metadata": {},
   "outputs": [],
   "source": []
  },
  {
   "cell_type": "code",
   "execution_count": null,
   "id": "a8af88df-69ac-4d4d-9119-024f079cd03f",
   "metadata": {},
   "outputs": [],
   "source": [
    "df = pd.read_csv('SDOH_County_TEXAS_Labeled.csv').drop(['Unnamed: 0', 'YEAR', 'STATE', 'STATEFIPS', 'TERRITORY', 'REGION', 'COUNTYFIPS'], axis=1)\n",
    "df"
   ]
  },
  {
   "cell_type": "code",
   "execution_count": null,
   "id": "25dead62-fda1-4bf7-9d89-8fa3ad5cdcbf",
   "metadata": {},
   "outputs": [],
   "source": []
  },
  {
   "cell_type": "code",
   "execution_count": null,
   "id": "c1d8fee0-64fc-48b0-b512-97d2a3175bc4",
   "metadata": {},
   "outputs": [],
   "source": []
  },
  {
   "cell_type": "code",
   "execution_count": null,
   "id": "e8acce1f-34fd-44b1-84d8-61476a5de133",
   "metadata": {},
   "outputs": [],
   "source": []
  },
  {
   "cell_type": "code",
   "execution_count": null,
   "id": "2384e5fa-84e5-4e96-9b5c-346fab0aeafd",
   "metadata": {},
   "outputs": [],
   "source": []
  },
  {
   "cell_type": "code",
   "execution_count": null,
   "id": "5d91efc8-5dc3-4715-b7aa-9e63a9e41ec0",
   "metadata": {},
   "outputs": [],
   "source": []
  },
  {
   "cell_type": "code",
   "execution_count": null,
   "id": "2a624b0f-2d14-4c17-84ea-a921966ec496",
   "metadata": {},
   "outputs": [],
   "source": []
  }
 ],
 "metadata": {
  "kernelspec": {
   "display_name": "Python 3",
   "language": "python",
   "name": "python3"
  },
  "language_info": {
   "codemirror_mode": {
    "name": "ipython",
    "version": 3
   },
   "file_extension": ".py",
   "mimetype": "text/x-python",
   "name": "python",
   "nbconvert_exporter": "python",
   "pygments_lexer": "ipython3",
   "version": "3.6.13"
  }
 },
 "nbformat": 4,
 "nbformat_minor": 5
}
